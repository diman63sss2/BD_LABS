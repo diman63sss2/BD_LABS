{
 "cells": [
  {
   "cell_type": "code",
   "execution_count": 1,
   "id": "98bb10d1-565f-4c6a-90c9-514a7445b6f7",
   "metadata": {},
   "outputs": [],
   "source": [
    "import pyspark\n",
    "import os\n",
    "\n",
    "from datetime import datetime\n",
    "from pyspark.sql.functions import col\n",
    "from pyspark.sql import SparkSession\n",
    "from pyspark.sql.types import StructType, StructField, StringType, DateType\n",
    "from pyspark import SparkContext, SparkConf"
   ]
  },
  {
   "cell_type": "code",
   "execution_count": 2,
   "id": "6020bf0e-3229-4423-8c50-c5dbe40c14a6",
   "metadata": {},
   "outputs": [],
   "source": [
    "#для чтения xml\n",
    "os.environ['PYSPARK_SUBMIT_ARGS'] = '--packages com.databricks:spark-xml_2.12:0.13.0 pyspark-shell'"
   ]
  },
  {
   "cell_type": "code",
   "execution_count": 3,
   "id": "54bf8471-6f50-498e-8a52-ca30d19c1b3a",
   "metadata": {},
   "outputs": [],
   "source": [
    "sc = SparkSession.builder.appName(\"lab2\").master(\"yarn\").getOrCreate()"
   ]
  },
  {
   "cell_type": "code",
   "execution_count": 4,
   "id": "518eaecc-c70f-4dc1-93d2-11a8ede34724",
   "metadata": {},
   "outputs": [
    {
     "name": "stdout",
     "output_type": "stream",
     "text": [
      "put: `posts_sample.xml': File exists\n",
      "put: `programming-languages.csv': File exists\n",
      "put: `Untitled.ipynb': File exists\n"
     ]
    }
   ],
   "source": [
    "!hadoop fs -put * ."
   ]
  },
  {
   "cell_type": "code",
   "execution_count": 6,
   "id": "fc016980-e0c4-4b69-a3cb-b5a0db74378d",
   "metadata": {},
   "outputs": [],
   "source": [
    "prog_lang = sc.read.csv(\"programming-languages.csv\")\n",
    "posts_sample = sc.read.format(\"xml\").options(rowTag=\"row\").load('posts_sample.xml')"
   ]
  },
  {
   "cell_type": "code",
   "execution_count": 7,
   "id": "d460fda8-4e11-40cb-adb4-ebd38db69ae5",
   "metadata": {},
   "outputs": [
    {
     "data": {
      "text/plain": [
       "['name', 'A# .NET', 'A# (Axiom)', 'A-0 System', 'A+', 'A++', 'ABAP']"
      ]
     },
     "execution_count": 7,
     "metadata": {},
     "output_type": "execute_result"
    }
   ],
   "source": [
    "prog_lang_list = [str(x[0]) for x in prog_lang.collect()]\n",
    "prog_lang_list[:7]"
   ]
  },
  {
   "cell_type": "code",
   "execution_count": 8,
   "id": "45b11daa-e0d3-4a67-9a71-df658578f082",
   "metadata": {},
   "outputs": [],
   "source": [
    "def find_language(x):\n",
    "    tag = None\n",
    "    for language in prog_lang_list:\n",
    "        if \"<\" + language.lower() + \">\" in x._Tags.lower():\n",
    "            tag = language\n",
    "            break\n",
    "    if tag is None:\n",
    "        return None\n",
    "    return (x._Id, tag)\n",
    "\n",
    "def is_year_date(x, year):\n",
    "    start = datetime(year=year, month=1, day=1)\n",
    "    end = datetime(year=year, month=12, day=31)\n",
    "    return x._CreationDate >= start and x._CreationDate <= end"
   ]
  },
  {
   "cell_type": "code",
   "execution_count": 9,
   "id": "d89442d4-73f1-4ec4-95de-088568121583",
   "metadata": {},
   "outputs": [
    {
     "name": "stdout",
     "output_type": "stream",
     "text": [
      "+-----------+-----------------+\n",
      "|         PL|Mentioned_in_2010|\n",
      "+-----------+-----------------+\n",
      "|       Java|               52|\n",
      "| JavaScript|               44|\n",
      "|        PHP|               42|\n",
      "|     Python|               25|\n",
      "|Objective-C|               22|\n",
      "|          C|               20|\n",
      "|       Ruby|               11|\n",
      "|     Delphi|                7|\n",
      "|AppleScript|                3|\n",
      "|          R|                3|\n",
      "+-----------+-----------------+\n",
      "\n",
      "+-----------+-----------------+\n",
      "|         PL|Mentioned_in_2011|\n",
      "+-----------+-----------------+\n",
      "|        PHP|               97|\n",
      "|       Java|               92|\n",
      "| JavaScript|               82|\n",
      "|     Python|               35|\n",
      "|Objective-C|               33|\n",
      "|          C|               24|\n",
      "|       Ruby|               17|\n",
      "|       Perl|                8|\n",
      "|     Delphi|                8|\n",
      "|       Bash|                7|\n",
      "+-----------+-----------------+\n",
      "\n",
      "+-----------+-----------------+\n",
      "|         PL|Mentioned_in_2012|\n",
      "+-----------+-----------------+\n",
      "|        PHP|              136|\n",
      "| JavaScript|              129|\n",
      "|       Java|              124|\n",
      "|     Python|               65|\n",
      "|Objective-C|               45|\n",
      "|          C|               27|\n",
      "|       Ruby|               25|\n",
      "|       Bash|                9|\n",
      "|          R|                9|\n",
      "|     MATLAB|                6|\n",
      "+-----------+-----------------+\n",
      "\n",
      "+-----------+-----------------+\n",
      "|         PL|Mentioned_in_2013|\n",
      "+-----------+-----------------+\n",
      "| JavaScript|              196|\n",
      "|       Java|              191|\n",
      "|        PHP|              173|\n",
      "|     Python|               87|\n",
      "|Objective-C|               40|\n",
      "|          C|               36|\n",
      "|       Ruby|               30|\n",
      "|          R|               25|\n",
      "|       Bash|               11|\n",
      "|      Scala|               10|\n",
      "+-----------+-----------------+\n",
      "\n",
      "+-----------+-----------------+\n",
      "|         PL|Mentioned_in_2014|\n",
      "+-----------+-----------------+\n",
      "| JavaScript|              235|\n",
      "|       Java|              228|\n",
      "|        PHP|              154|\n",
      "|     Python|              103|\n",
      "|          C|               52|\n",
      "|Objective-C|               49|\n",
      "|          R|               28|\n",
      "|       Ruby|               20|\n",
      "|     MATLAB|               16|\n",
      "|       Bash|               13|\n",
      "+-----------+-----------------+\n",
      "\n",
      "+-----------+-----------------+\n",
      "|         PL|Mentioned_in_2015|\n",
      "+-----------+-----------------+\n",
      "| JavaScript|              268|\n",
      "|       Java|              208|\n",
      "|        PHP|              147|\n",
      "|     Python|              119|\n",
      "|          R|               43|\n",
      "|          C|               38|\n",
      "|Objective-C|               30|\n",
      "|       Ruby|               20|\n",
      "|     MATLAB|               16|\n",
      "|      Scala|               13|\n",
      "+-----------+-----------------+\n",
      "\n",
      "+----------+-----------------+\n",
      "|        PL|Mentioned_in_2016|\n",
      "+----------+-----------------+\n",
      "|JavaScript|              271|\n",
      "|      Java|              178|\n",
      "|    Python|              140|\n",
      "|       PHP|              126|\n",
      "|         R|               50|\n",
      "|         C|               32|\n",
      "|      Ruby|               21|\n",
      "|      Bash|               16|\n",
      "|     Scala|               16|\n",
      "|    MATLAB|               15|\n",
      "+----------+-----------------+\n",
      "\n",
      "+-----------+-----------------+\n",
      "|         PL|Mentioned_in_2017|\n",
      "+-----------+-----------------+\n",
      "| JavaScript|              244|\n",
      "|       Java|              204|\n",
      "|     Python|              185|\n",
      "|        PHP|              122|\n",
      "|          R|               53|\n",
      "|          C|               24|\n",
      "|Objective-C|               19|\n",
      "|       Ruby|               16|\n",
      "| PowerShell|               14|\n",
      "| TypeScript|               14|\n",
      "+-----------+-----------------+\n",
      "\n",
      "+----------+-----------------+\n",
      "|        PL|Mentioned_in_2018|\n",
      "+----------+-----------------+\n",
      "|    Python|              214|\n",
      "|JavaScript|              194|\n",
      "|      Java|              145|\n",
      "|       PHP|               99|\n",
      "|         R|               63|\n",
      "|         C|               24|\n",
      "|     Scala|               22|\n",
      "|TypeScript|               21|\n",
      "|PowerShell|               13|\n",
      "|      Bash|               12|\n",
      "+----------+-----------------+\n",
      "\n",
      "+----------+-----------------+\n",
      "|        PL|Mentioned_in_2019|\n",
      "+----------+-----------------+\n",
      "|    Python|              162|\n",
      "|JavaScript|              131|\n",
      "|      Java|               95|\n",
      "|       PHP|               59|\n",
      "|         R|               36|\n",
      "|         C|               14|\n",
      "|    MATLAB|                9|\n",
      "|        Go|                9|\n",
      "|    Kotlin|                9|\n",
      "|      Dart|                9|\n",
      "+----------+-----------------+\n",
      "\n"
     ]
    }
   ],
   "source": [
    "pl_by_year = {}\n",
    "\n",
    "for year in range(2010, 2020):\n",
    "    pl_by_year[year] = posts_sample.rdd \\\n",
    "        .filter(lambda x: x._Tags is not None and is_year_date(x, year)) \\\n",
    "        .map(find_language) \\\n",
    "        .filter(lambda x: x is not None) \\\n",
    "        .keyBy(lambda x: x[1]) \\\n",
    "        .aggregateByKey(0, lambda x, y: x + 1, lambda x, y: x + y) \\\n",
    "        .sortBy(lambda x: x[1], ascending=False) \\\n",
    "        .toDF()\n",
    "\n",
    "    pl_by_year[year] = pl_by_year[year] \\\n",
    "                        .select(col(\"_1\").alias(\"PL\"), col(\"_2\").alias(f\"Mentioned_in_{year}\")) \\\n",
    "                        .limit(10)\n",
    "\n",
    "    pl_by_year[year].show()"
   ]
  },
  {
   "cell_type": "code",
   "execution_count": null,
   "id": "9926e3cd-5fce-4e3c-b4d4-7e59f954b540",
   "metadata": {},
   "outputs": [],
   "source": [
    "for i in pl_by_year.keys():\n",
    "    pl_by_year[i].write.format(\"parquet\").save(f\"lab2/pl_by_{i}\")"
   ]
  },
  {
   "cell_type": "code",
   "execution_count": null,
   "id": "6d0a3706-8213-4613-bfa2-99d6eaacd24f",
   "metadata": {},
   "outputs": [],
   "source": [
    "!hadoop fs -get /user/diman63s/lab2 ~/lab2"
   ]
  },
  {
   "cell_type": "code",
   "execution_count": null,
   "id": "2d14e373-bbf2-4a01-bcd2-f6fc71847d20",
   "metadata": {},
   "outputs": [],
   "source": []
  }
 ],
 "metadata": {
  "kernelspec": {
   "display_name": "Python 3",
   "language": "python",
   "name": "python3"
  },
  "language_info": {
   "codemirror_mode": {
    "name": "ipython",
    "version": 3
   },
   "file_extension": ".py",
   "mimetype": "text/x-python",
   "name": "python",
   "nbconvert_exporter": "python",
   "pygments_lexer": "ipython3",
   "version": "3.11.0"
  }
 },
 "nbformat": 4,
 "nbformat_minor": 5
}
