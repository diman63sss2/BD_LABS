{
 "cells": [
  {
   "cell_type": "code",
   "execution_count": 2,
   "id": "243c9120-c2ec-4a0e-af80-35fb03c111d2",
   "metadata": {},
   "outputs": [
    {
     "name": "stdout",
     "output_type": "stream",
     "text": [
      "2\n"
     ]
    }
   ],
   "source": [
    "print(\"2\")"
   ]
  },
  {
   "cell_type": "code",
   "execution_count": 3,
   "id": "46989264-e62b-470f-8432-d71da3791152",
   "metadata": {},
   "outputs": [],
   "source": [
    "from pyspark import SparkContext, SparkConf \n",
    "from pyspark.sql import SparkSession\n",
    "import pyspark.sql as sql\n",
    "from typing import NamedTuple\n",
    "from datetime import datetime"
   ]
  },
  {
   "cell_type": "code",
   "execution_count": 4,
   "id": "61f882a7-f6f9-4fe7-96ac-9687a400b112",
   "metadata": {},
   "outputs": [],
   "source": [
    "conf = SparkConf().setAppName(\"lrdim1\").setMaster('yarn')\n",
    "sc = SparkContext(conf=conf)\n",
    "spark = SparkSession(sc)"
   ]
  },
  {
   "cell_type": "code",
   "execution_count": 5,
   "id": "9d11a3a6-bec9-466d-ab83-0f4535b76fab",
   "metadata": {},
   "outputs": [
    {
     "name": "stdout",
     "output_type": "stream",
     "text": [
      "put: `station.csv': File exists\n",
      "put: `trip.csv': File exists\n",
      "put: `Untitled.ipynb': File exists\n"
     ]
    }
   ],
   "source": [
    "!hadoop fs -put * ."
   ]
  },
  {
   "cell_type": "code",
   "execution_count": 6,
   "id": "ce70d7aa-79ec-4c2f-a5af-a0233c8822d1",
   "metadata": {},
   "outputs": [],
   "source": [
    "def initStation(stations):\n",
    "    class Station(NamedTuple):\n",
    "        station_id: int\n",
    "        name: str\n",
    "        lat: float\n",
    "        long: float\n",
    "        dockcount: int\n",
    "        landmark: str\n",
    "        installation: str\n",
    "    \n",
    "    for station in stations:\n",
    "        yield Station(\n",
    "            station_id = int(station[0]),\n",
    "            name = station[1],\n",
    "            lat = float(station[2]),\n",
    "            long = float(station[3]),\n",
    "            dockcount = int(station[4]),\n",
    "            landmark = station[5],\n",
    "            installation = datetime.strptime(station[6], '%m/%d/%Y')\n",
    "        )\n",
    "\n",
    "def initTrip(trips):\n",
    "    class Trip(NamedTuple):\n",
    "        trip_id: int\n",
    "        duration: int\n",
    "        start_date: datetime\n",
    "        start_station_name: str\n",
    "        start_station_id: int\n",
    "        end_date: datetime\n",
    "        end_station_name: str\n",
    "        end_station_id: int\n",
    "        bike_id: int\n",
    "        subscription_type: str\n",
    "        zip_code: str\n",
    "        \n",
    "    for trip in trips:\n",
    "        try:\n",
    "            yield Trip(                             \n",
    "             trip_id = int(trip[0]),\n",
    "             duration = int(trip[1]),\n",
    "             start_date = datetime.strptime(trip[2], '%m/%d/%Y %H:%M'),\n",
    "             start_station_name = trip[3],\n",
    "             start_station_id = int(trip[4]),\n",
    "             end_date = datetime.strptime(trip[5], '%m/%d/%Y %H:%M'),\n",
    "             end_station_name = trip[6],\n",
    "             end_station_id = trip[7],\n",
    "             bike_id = int(trip[8]),\n",
    "             subscription_type = trip[9],\n",
    "             zip_code = trip[10]\n",
    "            ) \n",
    "        except:\n",
    "            pass"
   ]
  },
  {
   "cell_type": "code",
   "execution_count": 7,
   "id": "2a82484c-db57-4f70-b173-9c393874ca5b",
   "metadata": {},
   "outputs": [],
   "source": [
    "trip = sc.textFile(\"trip.csv\")\n",
    "station = sc.textFile(\"station.csv\")"
   ]
  },
  {
   "cell_type": "code",
   "execution_count": 8,
   "id": "621aa174-d34b-4a9d-acee-5074285182e7",
   "metadata": {},
   "outputs": [
    {
     "data": {
      "text/plain": [
       "['id,duration,start_date,start_station_name,start_station_id,end_date,end_station_name,end_station_id,bike_id,subscription_type,zip_code',\n",
       " '4576,63,8/29/2013 14:13,South Van Ness at Market,66,8/29/2013 14:14,South Van Ness at Market,66,520,Subscriber,94127',\n",
       " '4607,70,8/29/2013 14:42,San Jose City Hall,10,8/29/2013 14:43,San Jose City Hall,10,661,Subscriber,95138',\n",
       " '4130,71,8/29/2013 10:16,Mountain View City Hall,27,8/29/2013 10:17,Mountain View City Hall,27,48,Subscriber,97214',\n",
       " '4251,77,8/29/2013 11:29,San Jose City Hall,10,8/29/2013 11:30,San Jose City Hall,10,26,Subscriber,95060']"
      ]
     },
     "execution_count": 8,
     "metadata": {},
     "output_type": "execute_result"
    }
   ],
   "source": [
    "# kinda ls\n",
    "trip.take(5)"
   ]
  },
  {
   "cell_type": "code",
   "execution_count": 9,
   "id": "65cb1375-f7c6-4596-b447-3d14b60ec09d",
   "metadata": {},
   "outputs": [],
   "source": [
    "# filtering for map\n",
    "trip_header=trip.first()\n",
    "station_header=station.first()\n",
    "trip=trip.filter(lambda x: x != trip_header).map(lambda x: x.split(\",\"))\n",
    "station=station.filter(lambda x: x != station_header).map(lambda x: x.split(\",\"))"
   ]
  },
  {
   "cell_type": "code",
   "execution_count": 10,
   "id": "6dced559-be16-4ecc-852a-252de8440941",
   "metadata": {},
   "outputs": [],
   "source": [
    "trip_mp = trip.mapPartitions(initTrip)\n",
    "station_mp = station.mapPartitions(initStation)"
   ]
  },
  {
   "cell_type": "code",
   "execution_count": 11,
   "id": "1d95a63e-4efb-46a2-b6a7-775a5e36069d",
   "metadata": {},
   "outputs": [
    {
     "data": {
      "text/plain": [
       "Trip(trip_id=4576, duration=63, start_date=datetime.datetime(2013, 8, 29, 14, 13), start_station_name='South Van Ness at Market', start_station_id=66, end_date=datetime.datetime(2013, 8, 29, 14, 14), end_station_name='South Van Ness at Market', end_station_id='66', bike_id=520, subscription_type='Subscriber', zip_code='94127')"
      ]
     },
     "execution_count": 11,
     "metadata": {},
     "output_type": "execute_result"
    }
   ],
   "source": [
    "trip_mp.first()"
   ]
  },
  {
   "cell_type": "code",
   "execution_count": 12,
   "id": "f9361a3a-1508-4d45-8138-adbe0b0ec0e2",
   "metadata": {},
   "outputs": [
    {
     "data": {
      "text/plain": [
       "535"
      ]
     },
     "execution_count": 12,
     "metadata": {},
     "output_type": "execute_result"
    }
   ],
   "source": [
    "bike_max_time = trip_mp \\\n",
    ".map(lambda trip: (trip.bike_id, trip.duration)) \\\n",
    ".reduceByKey(lambda a, b: a + b) \\\n",
    ".top(1, key = lambda x: x[1])[0][0]\n",
    "\n",
    "bike_max_time"
   ]
  },
  {
   "cell_type": "code",
   "execution_count": 13,
   "id": "1653a0ba-c0f5-498b-9551-0e74ea97bd04",
   "metadata": {},
   "outputs": [
    {
     "data": {
      "text/plain": [
       "(16, 60, 0.7058482821754397)"
      ]
     },
     "execution_count": 13,
     "metadata": {},
     "output_type": "execute_result"
    }
   ],
   "source": [
    "station_distances = station_mp \\\n",
    ".cartesian(station_mp) \\\n",
    ".map(lambda pair: (pair[0].station_id, \n",
    "                   pair[1].station_id, \n",
    "                   ((pair[0].lat - pair[1].lat)**2 + (pair[0].long - pair[1].long)**2)**0.5))\n",
    "\n",
    "station_distances.top(1, key=lambda x: x[2])[0]"
   ]
  },
  {
   "cell_type": "code",
   "execution_count": 14,
   "id": "66014fc9-cda3-4da7-8938-449104c28590",
   "metadata": {},
   "outputs": [
    {
     "data": {
      "text/plain": [
       "('Post at Kearney', 'San Francisco Caltrain (Townsend at 4th)')"
      ]
     },
     "execution_count": 14,
     "metadata": {},
     "output_type": "execute_result"
    }
   ],
   "source": [
    "result = trip_mp \\\n",
    ".filter(lambda x: x.bike_id == bike_max_time) \\\n",
    ".sortBy(lambda x: x.start_date) \\\n",
    ".map(lambda x: (x.start_station_name, x.end_station_name)) \\\n",
    ".first() \n",
    "\n",
    "result"
   ]
  },
  {
   "cell_type": "code",
   "execution_count": 15,
   "id": "2c1f2dc0-1adf-4470-82d9-d2b044feb6ba",
   "metadata": {},
   "outputs": [
    {
     "data": {
      "text/plain": [
       "700"
      ]
     },
     "execution_count": 15,
     "metadata": {},
     "output_type": "execute_result"
    }
   ],
   "source": [
    "amount = trip_mp \\\n",
    ".map(lambda x: x.bike_id) \\\n",
    ".distinct() \\\n",
    ".count()\n",
    "\n",
    "amount"
   ]
  },
  {
   "cell_type": "code",
   "execution_count": 16,
   "id": "e72f35c6-3544-4d01-9fc9-a98b12f8d5aa",
   "metadata": {},
   "outputs": [
    {
     "data": {
      "text/plain": [
       "['94536', '72150', '94111']"
      ]
     },
     "execution_count": 16,
     "metadata": {},
     "output_type": "execute_result"
    }
   ],
   "source": [
    "users3h = trip_mp \\\n",
    ".filter(lambda x: x.duration > (3 * 60 * 60)) \\\n",
    ".map(lambda x: x.zip_code) \\\n",
    ".filter(lambda x: x != \"\") \\\n",
    ".distinct() \n",
    "\n",
    "users3h.take(3)"
   ]
  },
  {
   "cell_type": "code",
   "execution_count": null,
   "id": "b141b906-3432-44c3-8c3d-45d24fdb88da",
   "metadata": {},
   "outputs": [],
   "source": [
    "fs sc"
   ]
  }
 ],
 "metadata": {
  "kernelspec": {
   "display_name": "Python 3",
   "language": "python",
   "name": "python3"
  },
  "language_info": {
   "codemirror_mode": {
    "name": "ipython",
    "version": 3
   },
   "file_extension": ".py",
   "mimetype": "text/x-python",
   "name": "python",
   "nbconvert_exporter": "python",
   "pygments_lexer": "ipython3",
   "version": "3.9.5"
  }
 },
 "nbformat": 4,
 "nbformat_minor": 5
}
